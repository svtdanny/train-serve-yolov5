{
  "nbformat": 4,
  "nbformat_minor": 0,
  "metadata": {
    "colab": {
      "name": "Online validation.ipynb",
      "provenance": [],
      "collapsed_sections": []
    },
    "kernelspec": {
      "name": "python3",
      "display_name": "Python 3"
    },
    "language_info": {
      "name": "python"
    },
    "accelerator": "GPU"
  },
  "cells": [
    {
      "cell_type": "code",
      "metadata": {
        "colab": {
          "base_uri": "https://localhost:8080/"
        },
        "id": "2hbLRswyXddT",
        "outputId": "01f1f0e7-3dbb-49fa-8820-1f1a2223cabb"
      },
      "source": [
        "from google.colab import drive\n",
        "drive.mount('/content/drive')"
      ],
      "execution_count": 13,
      "outputs": [
        {
          "output_type": "stream",
          "text": [
            "Mounted at /content/drive\n"
          ],
          "name": "stdout"
        }
      ]
    },
    {
      "cell_type": "markdown",
      "metadata": {
        "id": "9v8Hf0Z2Vr1k"
      },
      "source": [
        "# Валидация модели на инференсе\n",
        "\n",
        "Считаем, что меток через некоторое время не приходит. Так как разметка в CV не проста и дорога\n",
        "\n",
        "Необходимо мониторить два основных аспекта:\n",
        "1. Качество самой модели (возможно переобучение, деградация или просто аномальность работы)\n",
        "2. Качество входящих данных\n",
        "\n",
        "Одно от другого зависит, и, скорее, если данные не изменились, то и модель будет нормально работать (если она автоматически не дообучается, в случае наличия меток).\n",
        "\n",
        "От нескольких людей уже слышал, что на проде ограничиваются простым подсчетом статистик (но это классический ML, там и метки иногда есть)."
      ]
    },
    {
      "cell_type": "markdown",
      "metadata": {
        "id": "ELvQxnj3Xiu4"
      },
      "source": [
        "# Качество модели\n",
        "\n",
        "### Начнем агрегировать статистики по предсказанным классам и вероятностям. Если в них наблюдается слишком много выбросов относительно валидации и меняется распределение уверенности модели - возможный сигнал о деградации модели (или сдвиге в данных) "
      ]
    },
    {
      "cell_type": "code",
      "metadata": {
        "colab": {
          "base_uri": "https://localhost:8080/"
        },
        "id": "QtDSQclqLxuH",
        "outputId": "4bdaab50-2130-4e5c-b4ad-254be606d087"
      },
      "source": [
        "!git clone https://github.com/ultralytics/yolov5 --quiet\n",
        "!pip install -r ./yolov5/requirements.txt --quiet"
      ],
      "execution_count": 1,
      "outputs": [
        {
          "output_type": "stream",
          "text": [
            "\u001b[?25l\r\u001b[K     |▌                               | 10 kB 29.1 MB/s eta 0:00:01\r\u001b[K     |█                               | 20 kB 25.3 MB/s eta 0:00:01\r\u001b[K     |█▌                              | 30 kB 18.9 MB/s eta 0:00:01\r\u001b[K     |██                              | 40 kB 16.2 MB/s eta 0:00:01\r\u001b[K     |██▋                             | 51 kB 7.8 MB/s eta 0:00:01\r\u001b[K     |███                             | 61 kB 9.1 MB/s eta 0:00:01\r\u001b[K     |███▋                            | 71 kB 9.4 MB/s eta 0:00:01\r\u001b[K     |████▏                           | 81 kB 8.8 MB/s eta 0:00:01\r\u001b[K     |████▋                           | 92 kB 9.7 MB/s eta 0:00:01\r\u001b[K     |█████▏                          | 102 kB 8.2 MB/s eta 0:00:01\r\u001b[K     |█████▋                          | 112 kB 8.2 MB/s eta 0:00:01\r\u001b[K     |██████▏                         | 122 kB 8.2 MB/s eta 0:00:01\r\u001b[K     |██████▊                         | 133 kB 8.2 MB/s eta 0:00:01\r\u001b[K     |███████▏                        | 143 kB 8.2 MB/s eta 0:00:01\r\u001b[K     |███████▊                        | 153 kB 8.2 MB/s eta 0:00:01\r\u001b[K     |████████▎                       | 163 kB 8.2 MB/s eta 0:00:01\r\u001b[K     |████████▊                       | 174 kB 8.2 MB/s eta 0:00:01\r\u001b[K     |█████████▎                      | 184 kB 8.2 MB/s eta 0:00:01\r\u001b[K     |█████████▉                      | 194 kB 8.2 MB/s eta 0:00:01\r\u001b[K     |██████████▎                     | 204 kB 8.2 MB/s eta 0:00:01\r\u001b[K     |██████████▉                     | 215 kB 8.2 MB/s eta 0:00:01\r\u001b[K     |███████████▎                    | 225 kB 8.2 MB/s eta 0:00:01\r\u001b[K     |███████████▉                    | 235 kB 8.2 MB/s eta 0:00:01\r\u001b[K     |████████████▍                   | 245 kB 8.2 MB/s eta 0:00:01\r\u001b[K     |████████████▉                   | 256 kB 8.2 MB/s eta 0:00:01\r\u001b[K     |█████████████▍                  | 266 kB 8.2 MB/s eta 0:00:01\r\u001b[K     |██████████████                  | 276 kB 8.2 MB/s eta 0:00:01\r\u001b[K     |██████████████▍                 | 286 kB 8.2 MB/s eta 0:00:01\r\u001b[K     |███████████████                 | 296 kB 8.2 MB/s eta 0:00:01\r\u001b[K     |███████████████▍                | 307 kB 8.2 MB/s eta 0:00:01\r\u001b[K     |████████████████                | 317 kB 8.2 MB/s eta 0:00:01\r\u001b[K     |████████████████▌               | 327 kB 8.2 MB/s eta 0:00:01\r\u001b[K     |█████████████████               | 337 kB 8.2 MB/s eta 0:00:01\r\u001b[K     |█████████████████▌              | 348 kB 8.2 MB/s eta 0:00:01\r\u001b[K     |██████████████████              | 358 kB 8.2 MB/s eta 0:00:01\r\u001b[K     |██████████████████▌             | 368 kB 8.2 MB/s eta 0:00:01\r\u001b[K     |███████████████████             | 378 kB 8.2 MB/s eta 0:00:01\r\u001b[K     |███████████████████▋            | 389 kB 8.2 MB/s eta 0:00:01\r\u001b[K     |████████████████████            | 399 kB 8.2 MB/s eta 0:00:01\r\u001b[K     |████████████████████▋           | 409 kB 8.2 MB/s eta 0:00:01\r\u001b[K     |█████████████████████           | 419 kB 8.2 MB/s eta 0:00:01\r\u001b[K     |█████████████████████▋          | 430 kB 8.2 MB/s eta 0:00:01\r\u001b[K     |██████████████████████▏         | 440 kB 8.2 MB/s eta 0:00:01\r\u001b[K     |██████████████████████▋         | 450 kB 8.2 MB/s eta 0:00:01\r\u001b[K     |███████████████████████▏        | 460 kB 8.2 MB/s eta 0:00:01\r\u001b[K     |███████████████████████▊        | 471 kB 8.2 MB/s eta 0:00:01\r\u001b[K     |████████████████████████▏       | 481 kB 8.2 MB/s eta 0:00:01\r\u001b[K     |████████████████████████▊       | 491 kB 8.2 MB/s eta 0:00:01\r\u001b[K     |█████████████████████████▏      | 501 kB 8.2 MB/s eta 0:00:01\r\u001b[K     |█████████████████████████▊      | 512 kB 8.2 MB/s eta 0:00:01\r\u001b[K     |██████████████████████████▎     | 522 kB 8.2 MB/s eta 0:00:01\r\u001b[K     |██████████████████████████▊     | 532 kB 8.2 MB/s eta 0:00:01\r\u001b[K     |███████████████████████████▎    | 542 kB 8.2 MB/s eta 0:00:01\r\u001b[K     |███████████████████████████▉    | 552 kB 8.2 MB/s eta 0:00:01\r\u001b[K     |████████████████████████████▎   | 563 kB 8.2 MB/s eta 0:00:01\r\u001b[K     |████████████████████████████▉   | 573 kB 8.2 MB/s eta 0:00:01\r\u001b[K     |█████████████████████████████▍  | 583 kB 8.2 MB/s eta 0:00:01\r\u001b[K     |█████████████████████████████▉  | 593 kB 8.2 MB/s eta 0:00:01\r\u001b[K     |██████████████████████████████▍ | 604 kB 8.2 MB/s eta 0:00:01\r\u001b[K     |██████████████████████████████▉ | 614 kB 8.2 MB/s eta 0:00:01\r\u001b[K     |███████████████████████████████▍| 624 kB 8.2 MB/s eta 0:00:01\r\u001b[K     |████████████████████████████████| 634 kB 8.2 MB/s eta 0:00:01\r\u001b[K     |████████████████████████████████| 636 kB 8.2 MB/s \n",
            "\u001b[?25h"
          ],
          "name": "stdout"
        }
      ]
    },
    {
      "cell_type": "code",
      "metadata": {
        "colab": {
          "base_uri": "https://localhost:8080/"
        },
        "id": "yFj2PEz7NQMh",
        "outputId": "99fa08ea-693a-45fb-d547-d9e7a11db83d"
      },
      "source": [
        "%cd yolov5"
      ],
      "execution_count": 2,
      "outputs": [
        {
          "output_type": "stream",
          "text": [
            "/content/yolov5\n"
          ],
          "name": "stdout"
        }
      ]
    },
    {
      "cell_type": "code",
      "metadata": {
        "id": "v1tF7iSe-6Yb"
      },
      "source": [
        "import glob\n",
        "import cv2\n",
        "import numpy as np\n",
        "from scipy.stats import ks_2samp\n",
        "\n",
        "import torch\n",
        "from utils.general import non_max_suppression, apply_classifier\n",
        "import models\n",
        "\n",
        "import matplotlib.pyplot as plt\n",
        "%matplotlib inline\n",
        "\n",
        "import time"
      ],
      "execution_count": 30,
      "outputs": []
    },
    {
      "cell_type": "code",
      "metadata": {
        "colab": {
          "base_uri": "https://localhost:8080/"
        },
        "id": "syEIkpF7-xpG",
        "outputId": "63441acb-4065-471f-f952-22d62a874c2d"
      },
      "source": [
        "val = glob.glob('/content/drive/MyDrive/DataSet_fishes/valid/images/*')\n",
        "train = glob.glob('/content/drive/MyDrive/DataSet_fishes/train/images/*')\n",
        "\n",
        "ext_data = glob.glob('/content/drive/MyDrive/DataSet_fishes/coco_val2017_part/*jpg')\n",
        "\n",
        "print(len(train), len(val), len(ext_data))\n",
        "\n",
        "train = train[:125]\n",
        "ext_norm = val[:125]\n",
        "ext_out = ext_data[:125]"
      ],
      "execution_count": 31,
      "outputs": [
        {
          "output_type": "stream",
          "text": [
            "448 127 510\n"
          ],
          "name": "stdout"
        }
      ]
    },
    {
      "cell_type": "code",
      "metadata": {
        "id": "_NBmGPJ5K_rw"
      },
      "source": [
        "def get_images(paths):\n",
        "  images = [cv2.imread(path, cv2.IMREAD_COLOR) for path in paths]\n",
        "  images = [cv2.resize(img, (640, 640)) for img in images]\n",
        "  images = np.array(images)\n",
        "\n",
        "  return images"
      ],
      "execution_count": 135,
      "outputs": []
    },
    {
      "cell_type": "code",
      "metadata": {
        "id": "eltQJmsmLHVW"
      },
      "source": [
        "images = get_images(val[:125])\n",
        "images_fake = get_images(ext_data[:125])"
      ],
      "execution_count": 136,
      "outputs": []
    },
    {
      "cell_type": "code",
      "metadata": {
        "id": "Le6y6cyzXeaN"
      },
      "source": [
        "device = torch.device(\"cuda:0\")\n",
        "\n",
        "ckpt = torch.load('/content/drive/MyDrive/DataSet_fishes/yolov5s_base.pt', device) \n",
        "model = ckpt['model']"
      ],
      "execution_count": 140,
      "outputs": []
    },
    {
      "cell_type": "code",
      "metadata": {
        "id": "12ul-XZwDtI4"
      },
      "source": [
        "def letterbox(im, new_shape=(640, 640), color=(114, 114, 114), auto=True, scaleFill=False, scaleup=True, stride=32):\n",
        "    # Resize and pad image while meeting stride-multiple constraints\n",
        "    shape = im.shape[:2]  # current shape [height, width]\n",
        "    if isinstance(new_shape, int):\n",
        "        new_shape = (new_shape, new_shape)\n",
        "\n",
        "    # Scale ratio (new / old)\n",
        "    r = min(new_shape[0] / shape[0], new_shape[1] / shape[1])\n",
        "    if not scaleup:  # only scale down, do not scale up (for better val mAP)\n",
        "        r = min(r, 1.0)\n",
        "\n",
        "    # Compute padding\n",
        "    ratio = r, r  # width, height ratios\n",
        "    new_unpad = int(round(shape[1] * r)), int(round(shape[0] * r))\n",
        "    dw, dh = new_shape[1] - new_unpad[0], new_shape[0] - new_unpad[1]  # wh padding\n",
        "    if auto:  # minimum rectangle\n",
        "        dw, dh = np.mod(dw, stride), np.mod(dh, stride)  # wh padding\n",
        "    elif scaleFill:  # stretch\n",
        "        dw, dh = 0.0, 0.0\n",
        "        new_unpad = (new_shape[1], new_shape[0])\n",
        "        ratio = new_shape[1] / shape[1], new_shape[0] / shape[0]  # width, height ratios\n",
        "\n",
        "    dw /= 2  # divide padding into 2 sides\n",
        "    dh /= 2\n",
        "\n",
        "    if shape[::-1] != new_unpad:  # resize\n",
        "        im = cv2.resize(im, new_unpad, interpolation=cv2.INTER_LINEAR)\n",
        "    top, bottom = int(round(dh - 0.1)), int(round(dh + 0.1))\n",
        "    left, right = int(round(dw - 0.1)), int(round(dw + 0.1))\n",
        "    im = cv2.copyMakeBorder(im, top, bottom, left, right, cv2.BORDER_CONSTANT, value=color)  # add border\n",
        "    return im, ratio, (dw, dh)"
      ],
      "execution_count": 141,
      "outputs": []
    },
    {
      "cell_type": "code",
      "metadata": {
        "id": "dWkicpgM880U"
      },
      "source": [
        "def easy_infer(\n",
        "  images,\n",
        "  augment=False,\n",
        "  half = True,\n",
        "  stride = int(model.stride.max()),  # model stride\n",
        "  classes=None,  # filter by class: --class 0, or --class 0 2 3\n",
        "  agnostic_nms=False,\n",
        "  iou_thres=0.45,\n",
        "  conf_thres=0.25,\n",
        "  max_det=1000,\n",
        "):\n",
        "\n",
        "  # Run inference\n",
        "  if device.type != 'cpu':\n",
        "      model(torch.zeros(1, 3, 640, 640).to(device).type_as(next(model.parameters())))  # run once\n",
        "  t0 = time.time()\n",
        "\n",
        "  all_preds = np.array([])\n",
        "\n",
        "  for img0 in images:\n",
        "    # Padded resize\n",
        "    img = letterbox(img0, (640, 640), stride=stride)[0]\n",
        "\n",
        "    # Convert\n",
        "    img = img.transpose((2, 0, 1))[::-1]  # HWC to CHW, BGR to RGB\n",
        "    img = np.ascontiguousarray(img)\n",
        "    \n",
        "    img = torch.from_numpy(img).to(device)\n",
        "    img = img.half() if half else img.float()  # uint8 to fp16/32\n",
        "    img /= 255.0  # 0 - 255 to 0.0 - 1.0\n",
        "    \n",
        "    if img.ndimension() == 3:\n",
        "        img = img.unsqueeze(0)\n",
        "\n",
        "    # Inference\n",
        "    pred = model(img,\n",
        "                augment=augment,\n",
        "                visualize=False)[0]\n",
        "\n",
        "    # Apply NMS\n",
        "    pred = non_max_suppression(pred, conf_thres, iou_thres, None, agnostic_nms, max_det=max_det)[0]\n",
        "    pred = pred.cpu().detach().numpy()\n",
        "\n",
        "    if len(all_preds) == 0:\n",
        "      all_preds = pred\n",
        "    else:\n",
        "      all_preds = np.concatenate([all_preds, pred])\n",
        "\n",
        "  return all_preds\n"
      ],
      "execution_count": 142,
      "outputs": []
    },
    {
      "cell_type": "code",
      "metadata": {
        "id": "Not5JZtL8goF"
      },
      "source": [
        "all_preds = easy_infer(images)\n",
        "all_preds_fake = easy_infer(images_fake)"
      ],
      "execution_count": 145,
      "outputs": []
    },
    {
      "cell_type": "code",
      "metadata": {
        "colab": {
          "base_uri": "https://localhost:8080/"
        },
        "id": "PH-4YQ9uKaio",
        "outputId": "3ee153a8-7a1f-4f85-ae6d-7a6cd030e72a"
      },
      "source": [
        "all_preds.shape, all_preds_fake.shape"
      ],
      "execution_count": 147,
      "outputs": [
        {
          "output_type": "execute_result",
          "data": {
            "text/plain": [
              "((1078, 6), (501, 6))"
            ]
          },
          "metadata": {
            "tags": []
          },
          "execution_count": 147
        }
      ]
    },
    {
      "cell_type": "code",
      "metadata": {
        "id": "b2CBDJyZNP-8"
      },
      "source": [
        "conf, classes = all_preds[:, 4], all_preds[:, 5]\n",
        "conf_fake, classes_fake = all_preds_fake[:, 4], all_preds_fake[:, 5]"
      ],
      "execution_count": 150,
      "outputs": []
    },
    {
      "cell_type": "code",
      "metadata": {
        "id": "Bvodyapw-Nn0"
      },
      "source": [
        ""
      ],
      "execution_count": null,
      "outputs": []
    },
    {
      "cell_type": "markdown",
      "metadata": {
        "id": "Ap0q0qCM-OUb"
      },
      "source": [
        "### Как видим, распределение вероятности сильно смещается в сторону меньших значений.<br> Так что имеет смысл либо смотреть на среднее значение вероятноти, либо на некоторый квантиль.\n",
        "\n",
        "### Или можно просто посчитать статистический тест на равенство распределений\n",
        "\n",
        "#### Заметим, что само распределение классов сильно не изменилось"
      ]
    },
    {
      "cell_type": "code",
      "metadata": {
        "colab": {
          "base_uri": "https://localhost:8080/",
          "height": 599
        },
        "id": "O5ngh6mWNf7t",
        "outputId": "9870b149-a607-4be2-92a2-03180c9288dc"
      },
      "source": [
        "# if pvalue < 0.05 -> что-то с сетью или пришли новые данные\n",
        "display(ks_2samp(conf_fake, conf))\n",
        "\n",
        "plt.hist(conf, 10)\n",
        "plt.title('True conf')\n",
        "plt.show()\n",
        "print(f'Mean value: {conf.mean()}')\n",
        "\n",
        "plt.hist(conf_fake, 10)\n",
        "plt.title('Fake conf')\n",
        "plt.show()\n",
        "print(f'Mean value: {conf_fake.mean()}')"
      ],
      "execution_count": 175,
      "outputs": [
        {
          "output_type": "display_data",
          "data": {
            "text/plain": [
              "Ks_2sampResult(statistic=0.33466462251748824, pvalue=7.771561172376096e-16)"
            ]
          },
          "metadata": {
            "tags": []
          }
        },
        {
          "output_type": "display_data",
          "data": {
            "image/png": "[encoded data removed]",
            "text/plain": [
              "<Figure size 432x288 with 1 Axes>"
            ]
          },
          "metadata": {
            "tags": [],
            "needs_background": "light"
          }
        },
        {
          "output_type": "stream",
          "text": [
            "Mean value: 0.6034913659095764\n"
          ],
          "name": "stdout"
        },
        {
          "output_type": "display_data",
          "data": {
            "image/png": "[encoded data removed]",
            "text/plain": [
              "<Figure size 432x288 with 1 Axes>"
            ]
          },
          "metadata": {
            "tags": [],
            "needs_background": "light"
          }
        },
        {
          "output_type": "stream",
          "text": [
            "Mean value: 0.4687533974647522\n"
          ],
          "name": "stdout"
        }
      ]
    },
    {
      "cell_type": "code",
      "metadata": {
        "colab": {
          "base_uri": "https://localhost:8080/",
          "height": 545
        },
        "id": "I8nOVLyaOaqE",
        "outputId": "5a3fb195-67d3-402d-c3d7-640a0e4b5538"
      },
      "source": [
        "plt.hist(classes, 7)\n",
        "plt.title('True classes')\n",
        "plt.show()\n",
        "\n",
        "plt.hist(classes_fake, 7)\n",
        "plt.title('Fake classes')\n",
        "plt.show()"
      ],
      "execution_count": 171,
      "outputs": [
        {
          "output_type": "display_data",
          "data": {
            "image/png": "[encoded data removed]",
            "text/plain": [
              "<Figure size 432x288 with 1 Axes>"
            ]
          },
          "metadata": {
            "tags": [],
            "needs_background": "light"
          }
        },
        {
          "output_type": "display_data",
          "data": {
            "image/png": "[encoded data removed]",
            "text/plain": [
              "<Figure size 432x288 with 1 Axes>"
            ]
          },
          "metadata": {
            "tags": [],
            "needs_background": "light"
          }
        }
      ]
    },
    {
      "cell_type": "markdown",
      "metadata": {
        "id": "jRXZYMEUXCON"
      },
      "source": [
        "# Качество данных\n",
        "\n",
        "### Обучим простую сеть, которая будет пытаться отделить валидационную выборку от пришедших за день данных. Если у нее получается, то это сигнализирует о смещении в данных <br>(реализация на keras для демонстрации простоты/вариативности)\n",
        "\n",
        "Вариантов модели очень много:\n",
        "1. Простая сеть классификатор на простой основе (здесь используется). Если точность > 0.7 => возможно пришли новые данные\n",
        "2. Простая сеть енкодер-декодер. Мониторинг количества выбросов по тесту 3 sigma на ошибке восстановления\n",
        "3. Isolation forest/бустинг (в зависимости от подхода) над выходами из последних слоев\n",
        "4. Isolation forest/бустинг (в зависимости от подхода) над HOG признаками\n",
        "\n",
        "Первый вариант самый простой. Скорее всего, что-то сложнее не будет использоваться\n",
        "\n",
        "## Результат\n",
        "1. данные одного вида - accuracy ~0.5\n",
        "2. Данные разных видов - accuracy ~0.9\n",
        "\n",
        "Можно взять порог, при котором приходит уведомление - 0.7\n",
        "\n",
        "### Ps.: реализация на keras, только чтобы показать вариативность. Вообще так в проде лучше стараться не делать (yolo-v5 на torch)"
      ]
    },
    {
      "cell_type": "code",
      "metadata": {
        "id": "GbY1-fx1X1uN"
      },
      "source": [
        "import numpy as np\n",
        "import cv2\n",
        "\n",
        "import tensorflow as tf\n",
        "from tensorflow.keras import  Sequential\n",
        "from tensorflow.keras.layers.experimental import preprocessing\n",
        "from tensorflow.keras import layers\n",
        "\n",
        "from tensorflow.keras.applications.resnet50 import ResNet50\n",
        "from tensorflow.keras.applications.efficientnet import EfficientNetB3\n",
        "\n",
        "import glob"
      ],
      "execution_count": null,
      "outputs": []
    },
    {
      "cell_type": "code",
      "metadata": {
        "colab": {
          "base_uri": "https://localhost:8080/"
        },
        "id": "n4NyM42JVrAu",
        "outputId": "c90e51d9-dabb-43f5-cb8f-c404ebae3fdf"
      },
      "source": [
        "!ls drive/MyDrive/DataSet_fishes"
      ],
      "execution_count": null,
      "outputs": [
        {
          "output_type": "stream",
          "text": [
            "coco_val2017_part    test\t\t       valid\t\tyolov5s_base.pt\n",
            "README.dataset.txt   train\t\t       yolov5m_base.pt\n",
            "README.roboflow.txt  train_freeze_backbone.py  yolov5s_base\n"
          ],
          "name": "stdout"
        }
      ]
    },
    {
      "cell_type": "code",
      "metadata": {
        "colab": {
          "base_uri": "https://localhost:8080/"
        },
        "id": "VJl3anc-SwYH",
        "outputId": "013c9d9b-0852-4bb0-da2b-137d228a4742"
      },
      "source": [
        "val = glob.glob('drive/MyDrive/DataSet_fishes/valid/images/*')\n",
        "train = glob.glob('drive/MyDrive/DataSet_fishes/train/images/*')\n",
        "\n",
        "ext_data = glob.glob('drive/MyDrive/DataSet_fishes/coco_val2017_part/*jpg')\n",
        "\n",
        "print(len(train), len(val), len(ext_data))\n",
        "\n",
        "train = train[:125]\n",
        "ext_norm = val[:125]\n",
        "ext_out = ext_data[:125]"
      ],
      "execution_count": null,
      "outputs": [
        {
          "output_type": "stream",
          "text": [
            "448 127 510\n"
          ],
          "name": "stdout"
        }
      ]
    },
    {
      "cell_type": "code",
      "metadata": {
        "id": "DPQi84MndSAV"
      },
      "source": [
        "X_train_fake = train[:100] + ext_out[:100]\n",
        "X_train = train[:100] + ext_norm[:100]\n",
        "y_train = [0]*100 + [1]*100\n",
        "\n",
        "X_val_fake = train[100:] + ext_out[100:]\n",
        "X_val = train[100:] + ext_norm[100:]\n",
        "y_val = [0]*25 + [1]*25"
      ],
      "execution_count": null,
      "outputs": []
    },
    {
      "cell_type": "code",
      "metadata": {
        "id": "AbhKyH9KSwbk"
      },
      "source": [
        "img_augmentation = Sequential(\n",
        "    [\n",
        "        preprocessing.RandomRotation(factor=0.1),\n",
        "        preprocessing.RandomTranslation(height_factor=0.15, width_factor=0.15),\n",
        "        preprocessing.RandomFlip(mode=\"horizontal\"),\n",
        "        preprocessing.RandomContrast(factor=0.1),\n",
        "        preprocessing.RandomZoom(0.2),\n",
        "    ],\n",
        "    name=\"img_augmentation\",\n",
        ")"
      ],
      "execution_count": null,
      "outputs": []
    },
    {
      "cell_type": "code",
      "metadata": {
        "id": "TwdnW9fjXAKB"
      },
      "source": [
        "class DataGen(tf.keras.utils.Sequence):\n",
        "    \n",
        "    def __init__(self, train_paths, y_train,\n",
        "                 batch_size,\n",
        "                 input_size=(224, 224, 3),\n",
        "                 shuffle=True\n",
        "                 ):\n",
        "        \n",
        "      self.train_paths = np.array(train_paths)\n",
        "      self.y_train = np.array(y_train)\n",
        "      self.batch_size = batch_size\n",
        "      self.input_size = input_size\n",
        "      self.shuffle = shuffle\n",
        "      \n",
        "      self.n = len(self.train_paths)\n",
        "    \n",
        "    @staticmethod\n",
        "    def _unison_shuffled_copies(a, b):\n",
        "      assert len(a) == len(b)\n",
        "      p = np.random.permutation(len(a))\n",
        "      \n",
        "      return a[p], b[p]\n",
        "\n",
        "    def on_epoch_end(self):\n",
        "        self.train_paths, self.y_train = DataGen._unison_shuffled_copies(self.train_paths, self.y_train)\n",
        "    \n",
        "    def __getitem__(self, index):\n",
        "        path = self.train_paths[index]\n",
        "\n",
        "        start = index * self.batch_size\n",
        "        finish = (index+1) * self.batch_size\n",
        "\n",
        "        images = [cv2.imread(path, cv2.IMREAD_COLOR) for path in self.train_paths[start:finish]]\n",
        "        images = [cv2.resize(img, self.input_size[:2]) for img in images]\n",
        "        images = np.array(images)\n",
        "        labels = self.y_train[start:finish]\n",
        "\n",
        "        return images, np.array(labels)\n",
        "    \n",
        "    def __len__(self):\n",
        "        return self.n // self.batch_size"
      ],
      "execution_count": null,
      "outputs": []
    },
    {
      "cell_type": "code",
      "metadata": {
        "id": "0jstzXmJfcOc"
      },
      "source": [
        "IMG_SIZE = (224, 224, 3)"
      ],
      "execution_count": null,
      "outputs": []
    },
    {
      "cell_type": "code",
      "metadata": {
        "id": "oOl_UGKzedWx"
      },
      "source": [
        "datagen_train = DataGen(X_train, y_train, 8, IMG_SIZE)\n",
        "datagen_train_fake = DataGen(X_train_fake, y_train, 8, IMG_SIZE)\n",
        "\n",
        "datagen_val = DataGen(X_val, y_val, 8, IMG_SIZE)\n",
        "datagen_val_fake = DataGen(X_val_fake, y_val, 8, IMG_SIZE)"
      ],
      "execution_count": null,
      "outputs": []
    },
    {
      "cell_type": "code",
      "metadata": {
        "id": "RMD8j6ENfaPh"
      },
      "source": [
        "\n",
        "inputs = layers.Input(shape=(IMG_SIZE[0], IMG_SIZE[1], 3))\n",
        "x = img_augmentation(inputs)\n",
        "\n",
        "model = EfficientNetB3(include_top=False, weights='imagenet', input_tensor=x)\n",
        "model.trainable = False\n",
        "\n",
        "x = model(x)\n",
        "x = layers.Flatten()(x)\n",
        "\n",
        "x = layers.Dense(200, activation=\"relu\", name=\"dense\")(x)\n",
        "x = layers.Dense(50, activation=\"relu\", name=\"dense2\")(x)\n",
        "outputs = layers.Dense(1, activation=\"sigmoid\", name=\"pred\")(x)\n",
        "\n",
        "model = tf.keras.Model(inputs, outputs, name=\"Xception\")\n",
        "optimizer = tf.keras.optimizers.Adam(learning_rate=1e-2)\n",
        "model.compile(\n",
        "    optimizer=optimizer, loss=\"binary_crossentropy\", metrics=[\"accuracy\"]\n",
        ")"
      ],
      "execution_count": null,
      "outputs": []
    },
    {
      "cell_type": "code",
      "metadata": {
        "colab": {
          "base_uri": "https://localhost:8080/"
        },
        "id": "fqGk7ZWGgije",
        "outputId": "e88bf05a-d6ee-42c1-da78-94732cde99e5"
      },
      "source": [
        "model.summary()"
      ],
      "execution_count": null,
      "outputs": [
        {
          "output_type": "stream",
          "text": [
            "Model: \"Xception\"\n",
            "_________________________________________________________________\n",
            "Layer (type)                 Output Shape              Param #   \n",
            "=================================================================\n",
            "input_7 (InputLayer)         [(None, 224, 224, 3)]     0         \n",
            "_________________________________________________________________\n",
            "img_augmentation (Sequential (None, 224, 224, 3)       0         \n",
            "_________________________________________________________________\n",
            "efficientnetb3 (Functional)  (None, 7, 7, 1536)        10783535  \n",
            "_________________________________________________________________\n",
            "flatten_6 (Flatten)          (None, 75264)             0         \n",
            "_________________________________________________________________\n",
            "dense (Dense)                (None, 200)               15053000  \n",
            "_________________________________________________________________\n",
            "dense2 (Dense)               (None, 50)                10050     \n",
            "_________________________________________________________________\n",
            "pred (Dense)                 (None, 1)                 51        \n",
            "=================================================================\n",
            "Total params: 25,846,636\n",
            "Trainable params: 15,063,101\n",
            "Non-trainable params: 10,783,535\n",
            "_________________________________________________________________\n"
          ],
          "name": "stdout"
        }
      ]
    },
    {
      "cell_type": "code",
      "metadata": {
        "id": "wvMLw0zTiE1X"
      },
      "source": [
        "callbacks = [\n",
        "      #keras.callbacks.ModelCheckpoint(\"online_metric_model.h5\", save_best_only=True),\n",
        "  ]"
      ],
      "execution_count": null,
      "outputs": []
    },
    {
      "cell_type": "markdown",
      "metadata": {
        "id": "jkLeZ6PncSlh"
      },
      "source": [
        "## Модель не может отделить \"валидационную\" и \"новую\" выборки, <br> что выливается в accuracy ~0.5"
      ]
    },
    {
      "cell_type": "code",
      "metadata": {
        "colab": {
          "base_uri": "https://localhost:8080/"
        },
        "id": "BGaAZxYZh-K9",
        "outputId": "ebbdda6d-711c-45cd-e86b-5ec552e5fc08"
      },
      "source": [
        "epochs = 10  # @param {type: \"slider\", min:8, max:300}\n",
        "hist = model.fit(datagen_train, epochs=epochs, \n",
        "                 callbacks=callbacks, validation_data=datagen_val, \n",
        "                 verbose=1)  "
      ],
      "execution_count": null,
      "outputs": [
        {
          "output_type": "stream",
          "text": [
            "Epoch 1/10\n",
            "25/25 [==============================] - 16s 675ms/step - loss: 0.7050 - accuracy: 0.3400 - val_loss: 0.6937 - val_accuracy: 0.4792\n",
            "Epoch 2/10\n",
            "25/25 [==============================] - 6s 257ms/step - loss: 0.6937 - accuracy: 0.4900 - val_loss: 0.6932 - val_accuracy: 0.5000\n",
            "Epoch 3/10\n",
            "25/25 [==============================] - 5s 205ms/step - loss: 0.6937 - accuracy: 0.5000 - val_loss: 0.6927 - val_accuracy: 0.5208\n",
            "Epoch 4/10\n",
            "25/25 [==============================] - 5s 204ms/step - loss: 0.6936 - accuracy: 0.5000 - val_loss: 0.6933 - val_accuracy: 0.4792\n",
            "Epoch 5/10\n",
            "25/25 [==============================] - 5s 204ms/step - loss: 0.6936 - accuracy: 0.4600 - val_loss: 0.6932 - val_accuracy: 0.5000\n",
            "Epoch 6/10\n",
            "25/25 [==============================] - 5s 206ms/step - loss: 0.6932 - accuracy: 0.5000 - val_loss: 0.6931 - val_accuracy: 0.5000\n",
            "Epoch 7/10\n",
            "25/25 [==============================] - 5s 207ms/step - loss: 0.6935 - accuracy: 0.4200 - val_loss: 0.6932 - val_accuracy: 0.4792\n",
            "Epoch 8/10\n",
            "25/25 [==============================] - 5s 206ms/step - loss: 0.6932 - accuracy: 0.4600 - val_loss: 0.6931 - val_accuracy: 0.5000\n",
            "Epoch 9/10\n",
            "25/25 [==============================] - 5s 202ms/step - loss: 0.6933 - accuracy: 0.5000 - val_loss: 0.6934 - val_accuracy: 0.4792\n",
            "Epoch 10/10\n",
            "25/25 [==============================] - 5s 203ms/step - loss: 0.8011 - accuracy: 0.4150 - val_loss: 0.6932 - val_accuracy: 0.5000\n"
          ],
          "name": "stdout"
        }
      ]
    },
    {
      "cell_type": "markdown",
      "metadata": {
        "id": "-tXyYOaFcmKc"
      },
      "source": [
        "## Модель легко отделяет \"валидационную\" и \"новую\" выборки, <br> что выливается в accuracy ~0.9\n",
        "### На проде врятли такая сильная разница будет, поэтому имеет смысл брать порог около ~0.6-0.7"
      ]
    },
    {
      "cell_type": "code",
      "metadata": {
        "colab": {
          "base_uri": "https://localhost:8080/"
        },
        "id": "MuFJc_nTmgu0",
        "outputId": "e221b6ee-1569-44a8-c0f8-1af1b950bda5"
      },
      "source": [
        "epochs = 10  # @param {type: \"slider\", min:8, max:300}\n",
        "hist2 = model.fit(datagen_train_fake, epochs=epochs, \n",
        "                 callbacks=callbacks, validation_data=datagen_val_fake, \n",
        "                 verbose=1)  "
      ],
      "execution_count": null,
      "outputs": [
        {
          "output_type": "stream",
          "text": [
            "Epoch 1/10\n",
            "25/25 [==============================] - 19s 290ms/step - loss: 7.2709 - accuracy: 0.7700 - val_loss: 2.5955 - val_accuracy: 0.8333\n",
            "Epoch 2/10\n",
            "25/25 [==============================] - 4s 178ms/step - loss: 0.9985 - accuracy: 0.8900 - val_loss: 2.5257 - val_accuracy: 0.8750\n",
            "Epoch 3/10\n",
            "25/25 [==============================] - 4s 177ms/step - loss: 0.8964 - accuracy: 0.8600 - val_loss: 0.2817 - val_accuracy: 0.8958\n",
            "Epoch 4/10\n",
            "25/25 [==============================] - 4s 177ms/step - loss: 0.3401 - accuracy: 0.9350 - val_loss: 1.3038 - val_accuracy: 0.8333\n",
            "Epoch 5/10\n",
            "25/25 [==============================] - 4s 177ms/step - loss: 0.8119 - accuracy: 0.8700 - val_loss: 0.7386 - val_accuracy: 0.9167\n",
            "Epoch 6/10\n",
            "25/25 [==============================] - 4s 175ms/step - loss: 0.4828 - accuracy: 0.9350 - val_loss: 0.3559 - val_accuracy: 0.9167\n",
            "Epoch 7/10\n",
            "25/25 [==============================] - 5s 180ms/step - loss: 0.6392 - accuracy: 0.9350 - val_loss: 0.3308 - val_accuracy: 0.8750\n",
            "Epoch 8/10\n",
            "25/25 [==============================] - 4s 178ms/step - loss: 0.4202 - accuracy: 0.9100 - val_loss: 0.2321 - val_accuracy: 0.8958\n",
            "Epoch 9/10\n",
            "25/25 [==============================] - 5s 180ms/step - loss: 0.1912 - accuracy: 0.8900 - val_loss: 0.1922 - val_accuracy: 0.8750\n",
            "Epoch 10/10\n",
            "25/25 [==============================] - 4s 177ms/step - loss: 0.1069 - accuracy: 0.9500 - val_loss: 0.2247 - val_accuracy: 0.9375\n"
          ],
          "name": "stdout"
        }
      ]
    }
  ]
}